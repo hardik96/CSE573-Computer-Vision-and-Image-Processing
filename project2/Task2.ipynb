{
 "cells": [
  {
   "cell_type": "code",
   "execution_count": 161,
   "metadata": {},
   "outputs": [
    {
     "name": "stdout",
     "output_type": "stream",
     "text": [
      "sobel_45 is: [[ 0  1  2]\n",
      " [-1  0  1]\n",
      " [-2 -1  0]]\n",
      "sobel_135 is: [[ 2  1  0]\n",
      " [ 1  0 -1]\n",
      " [ 0 -1 -2]]\n",
      "442 442\n"
     ]
    }
   ],
   "source": [
    "\"\"\"\n",
    " Grayscale Image Processing\n",
    "(Due date: Nov. 26, 11:59 P.M., 2021)\n",
    "\n",
    "The goal of this task is to experiment with two commonly used \n",
    "image processing techniques: image denoising and edge detection. \n",
    "Specifically, you are given a grayscale image with salt-and-pepper noise, \n",
    "which is named 'task2.png' for your code testing. \n",
    "Note that different image might be used when grading your code. \n",
    "\n",
    "You are required to write programs to: \n",
    "(i) denoise the image using 3x3 median filter;\n",
    "(ii) detect edges in the denoised image along both x and y directions using Sobel operators (provided in line 30-32).\n",
    "(iii) design two 3x3 kernels and detect edges in the denoised image along both 45° and 135° diagonal directions.\n",
    "Hint: \n",
    "• Zero-padding is needed before filtering or convolution. \n",
    "• Normalization is needed before saving edge images. You can normalize image using the following equation:\n",
    "    normalized_img = 255 * frac{img - min(img)}{max(img) - min(img)}\n",
    "\n",
    "Do NOT modify the code provided to you.\n",
    "You are NOT allowed to use OpenCV library except the functions we already been imported from cv2. \n",
    "You are allowed to use Numpy for basic matrix calculations EXCEPT any function/operation related to convolution or correlation. \n",
    "You should NOT use any other libraries, which provide APIs for convolution/correlation ormedian filtering. \n",
    "Please write the convolution code ON YOUR OWN. \n",
    "\"\"\"\n",
    "\n",
    "from cv2 import imread, imwrite, imshow, IMREAD_GRAYSCALE, namedWindow, waitKey, destroyAllWindows\n",
    "import numpy as np\n",
    "\n",
    "# Sobel operators are given here, do NOT modify them.\n",
    "sobel_x = np.array([[1, 0, -1], [2, 0, -2], [1, 0, -1]]).astype(int)\n",
    "sobel_y = np.array([[1, 2, 1], [0, 0, 0], [-1, -2, -1]]).astype(int)\n",
    "\n",
    "\n",
    "def filter(img):\n",
    "    \"\"\"\n",
    "    :param img: numpy.ndarray(int), image\n",
    "    :return denoise_img: numpy.ndarray(int), image, same size as the input image\n",
    "\n",
    "    Apply 3x3 Median Filter and reduce salt-and-pepper noises in the input noise image\n",
    "    \"\"\"\n",
    "\n",
    "    # TO DO: implement your solution here\n",
    "    pad_row =  [0]*img.shape[1]\n",
    "\n",
    "    pad_column = [0] * (img.shape[0]+2)\n",
    "    img_pad = np.vstack([pad_row,img,pad_row])\n",
    "    img_pad = np.column_stack((pad_column,img_pad,pad_column))\n",
    "\n",
    "    median_array=[]\n",
    "    for i in range(1,img_pad.shape[0]-1):\n",
    "        for j in range(1,img_pad.shape[1]-1):\n",
    "            temp_array = img_pad[i-1:i+2,j-1:j+2]\n",
    "            temp_array_flat = temp_array.flatten()\n",
    "            temp_array_flat.sort()\n",
    "            median_array.append(median(temp_array_flat))\n",
    "    \n",
    "    denoise_img = np.array(median_array).reshape(img.shape)\n",
    "    \n",
    "    return denoise_img\n",
    "\n",
    "\n",
    "def convolve2d(img, kernel):\n",
    "    \"\"\"\n",
    "    :param img: numpy.ndarray, image\n",
    "    :param kernel: numpy.ndarray, kernel\n",
    "    :return conv_img: numpy.ndarray, image, same size as the input image\n",
    "\n",
    "    Convolves a given image (or matrix) and a given kernel.\n",
    "    \"\"\"\n",
    "\n",
    "    # TO DO: implement your solution here\n",
    "    padded = padding(img)\n",
    "    conv_img=[]\n",
    "    for i in range(1,padded.shape[0]-1):\n",
    "        for j in range(1,padded.shape[1]-1):\n",
    "            temp_array = padded[i-1:i+2,j-1:j+2]\n",
    "            temp_array.astype(int)\n",
    "            conv_img.append(sum((temp_array*kernel).flatten()))\n",
    "    conv_img = np.array(conv_img).reshape(img.shape)\n",
    "    \n",
    "    return conv_img\n",
    "\n",
    "\n",
    "def edge_detect(img):\n",
    "    \"\"\"\n",
    "    :param img: numpy.ndarray(int), image\n",
    "    :return edge_x: numpy.ndarray(int), image, same size as the input image, edges along x direction\n",
    "    :return edge_y: numpy.ndarray(int), image, same size as the input image, edges along y direction\n",
    "    :return edge_mag: numpy.ndarray(int), image, same size as the input image, \n",
    "                      magnitude of edges by combining edges along two orthogonal directions.\n",
    "\n",
    "    Detect edges using Sobel kernel along x and y directions.\n",
    "    Please use the Sobel operators provided in line 30-32.\n",
    "    Calculate magnitude of edges by combining edges along two orthogonal directions.\n",
    "    All returned images should be normalized to [0, 255].\n",
    "    \"\"\"\n",
    "\n",
    "    # TO DO: implement your solution here\n",
    "    \n",
    "    flipped_x = np.flip(sobel_x)\n",
    "    flipped_y = np.flip(sobel_y)\n",
    "    edge_x = convolve2d(img,flipped_x)\n",
    "    edge_y = convolve2d(img,flipped_y)\n",
    "    edge_mag = np.sqrt(edge_x*edge_x+edge_y*edge_y)\n",
    "    return normalize(edge_x), normalize(edge_y), normalize(edge_mag)\n",
    "\n",
    "\n",
    "def edge_diag(img):\n",
    "    \"\"\"\n",
    "    :param img: numpy.ndarray(int), image\n",
    "    :return edge_45: numpy.ndarray(int), image, same size as the input image, edges along x direction\n",
    "    :return edge_135: numpy.ndarray(int), image, same size as the input image, edges along y direction\n",
    "\n",
    "    Design two 3x3 kernels to detect the diagonal edges of input image. Please print out the kernels you designed.\n",
    "    Detect diagonal edges along 45° and 135° diagonal directions using the kernels you designed.\n",
    "    All returned images should be normalized to [0, 255].\n",
    "    \"\"\"\n",
    "\n",
    "    # TO DO: implement your solution here\n",
    "    \n",
    "    sobel_45 = np.array([[0,1,2] , [-1,  0,  1] , [-2 ,  -1 , 0]]).astype(int)\n",
    "    sobel_135 = np.array([[2, 1, 0], [1, 0, -1], [0, -1, -2]]).astype(int)\n",
    "    print(\"sobel_45 is:\", sobel_45) # print the two kernels you designed here\n",
    "    print(\"sobel_135 is:\" , sobel_135)\n",
    "    edge_45 = convolve2d(img,sobel_45)\n",
    "    edge_135 = convolve2d(img,sobel_135)\n",
    "    return normalize(edge_45), normalize(edge_135)\n",
    "\n",
    "def median(array):\n",
    "    if(len(array)%2!=0):\n",
    "        return array[int(len(array)/2)]\n",
    "    else:\n",
    "        return (array[len(array)/2-1]+array[len(array)/2])/2\n",
    "\n",
    "def padding(img):\n",
    "    pad_row =  [0]*img.shape[1]\n",
    "\n",
    "    pad_column = [0] * (img.shape[0]+2)\n",
    "    img_pad = np.vstack([pad_row,img,pad_row])\n",
    "    img_pad = np.column_stack((pad_column,img_pad,pad_column))\n",
    "    return img_pad\n",
    "\n",
    "def normalize(img):\n",
    "    val_min = img.min()\n",
    "    val_max = img.max()\n",
    "    return (255 * ((img-val_min)/(val_max-val_min))) \n",
    "    \n",
    "\n",
    "if __name__ == \"__main__\":\n",
    "    noise_img = imread('task2.png', IMREAD_GRAYSCALE)\n",
    "    denoise_img = filter(noise_img)\n",
    "    imwrite('results/task2_denoise.jpg', denoise_img)\n",
    "    edge_x_img, edge_y_img, edge_mag_img = edge_detect(denoise_img)\n",
    "    imwrite('results/task2_edge_x.jpg', edge_x_img)\n",
    "    imwrite('results/task2_edge_y.jpg', edge_y_img)\n",
    "    imwrite('results/task2_edge_mag.jpg', edge_mag_img)\n",
    "    edge_45_img, edge_135_img = edge_diag(denoise_img)\n",
    "    imwrite('results/task2_edge_diag1.jpg', edge_45_img)\n",
    "    imwrite('results/task2_edge_diag2.jpg', edge_135_img)\n",
    "\n",
    "    print(len(noise_img),len(edge_x_img))"
   ]
  },
  {
   "cell_type": "code",
   "execution_count": 9,
   "metadata": {},
   "outputs": [
    {
     "data": {
      "text/plain": [
       "(442, 700)"
      ]
     },
     "execution_count": 9,
     "metadata": {},
     "output_type": "execute_result"
    }
   ],
   "source": [
    "noise_img.shape"
   ]
  },
  {
   "cell_type": "code",
   "execution_count": 46,
   "metadata": {},
   "outputs": [],
   "source": [
    "pad_row =  [0]*noise_img.shape[1]\n",
    "\n",
    "pad_column = [0] * (noise_img.shape[0]+2)"
   ]
  },
  {
   "cell_type": "code",
   "execution_count": 41,
   "metadata": {},
   "outputs": [],
   "source": [
    "img_pad = np.vstack([pad_row,noise_img,pad_row])"
   ]
  },
  {
   "cell_type": "code",
   "execution_count": 50,
   "metadata": {},
   "outputs": [],
   "source": [
    "img_pad = np.column_stack((pad_column,img_pad,pad_column))"
   ]
  },
  {
   "cell_type": "code",
   "execution_count": 93,
   "metadata": {},
   "outputs": [],
   "source": [
    "median_array=[]\n",
    "for i in range(1,img_pad.shape[0]-1):\n",
    "    for j in range(1,img_pad.shape[1]-1):\n",
    "        temp_array = img_pad[i-1:i+2,j-1:j+2]\n",
    "        temp_array_flat = temp_array.flatten()\n",
    "        temp_array_flat.sort()\n",
    "        median_array.append(median(temp_array_flat))\n",
    "\n",
    "        \n",
    "\n",
    "        \n",
    "        \n",
    "        \n",
    "        "
   ]
  },
  {
   "cell_type": "code",
   "execution_count": 30,
   "metadata": {},
   "outputs": [
    {
     "data": {
      "text/plain": [
       "(1, 442)"
      ]
     },
     "execution_count": 30,
     "metadata": {},
     "output_type": "execute_result"
    }
   ],
   "source": [
    "x.shape"
   ]
  },
  {
   "cell_type": "code",
   "execution_count": 65,
   "metadata": {},
   "outputs": [
    {
     "data": {
      "text/plain": [
       "array([[255, 255, 245],\n",
       "       [255, 236, 219]])"
      ]
     },
     "execution_count": 65,
     "metadata": {},
     "output_type": "execute_result"
    }
   ],
   "source": [
    "img_pad[1:3,2:5]"
   ]
  },
  {
   "cell_type": "code",
   "execution_count": 73,
   "metadata": {},
   "outputs": [],
   "source": [
    "a=np.array([0]*100)"
   ]
  },
  {
   "cell_type": "code",
   "execution_count": 75,
   "metadata": {},
   "outputs": [],
   "source": [
    "temp_array.sort()"
   ]
  },
  {
   "cell_type": "code",
   "execution_count": 84,
   "metadata": {},
   "outputs": [],
   "source": [
    "sort = temp_array.flatten()"
   ]
  },
  {
   "cell_type": "code",
   "execution_count": 91,
   "metadata": {},
   "outputs": [],
   "source": [
    "def median(array):\n",
    "    if(len(array)%2!=0):\n",
    "        return array[int(len(array)/2)]\n",
    "    else:\n",
    "        return (array[len(array)/2-1]+array[len(array)/2])/2"
   ]
  },
  {
   "cell_type": "code",
   "execution_count": 92,
   "metadata": {},
   "outputs": [
    {
     "data": {
      "text/plain": [
       "0"
      ]
     },
     "execution_count": 92,
     "metadata": {},
     "output_type": "execute_result"
    }
   ],
   "source": [
    "median(sort)"
   ]
  },
  {
   "cell_type": "code",
   "execution_count": 97,
   "metadata": {},
   "outputs": [],
   "source": [
    "filter_img = np.array(median_array).reshape(noise_img.shape)"
   ]
  },
  {
   "cell_type": "code",
   "execution_count": 102,
   "metadata": {},
   "outputs": [],
   "source": [
    "def padding(img):\n",
    "    pad_row =  [0]*img.shape[1]\n",
    "\n",
    "    pad_column = [0] * (img.shape[0]+2)\n",
    "    img_pad = np.vstack([pad_row,img,pad_row])\n",
    "    img_pad = np.column_stack((pad_column,img_pad,pad_column))\n",
    "    return img_pad"
   ]
  },
  {
   "cell_type": "code",
   "execution_count": 103,
   "metadata": {},
   "outputs": [],
   "source": [
    "##Edge Detect code from here\n",
    "padded = padding(filter_img)"
   ]
  },
  {
   "cell_type": "code",
   "execution_count": 106,
   "metadata": {},
   "outputs": [
    {
     "data": {
      "text/plain": [
       "array([[ 1,  0, -1],\n",
       "       [ 2,  0, -2],\n",
       "       [ 1,  0, -1]])"
      ]
     },
     "execution_count": 106,
     "metadata": {},
     "output_type": "execute_result"
    }
   ],
   "source": [
    "sobel_x"
   ]
  },
  {
   "cell_type": "code",
   "execution_count": 108,
   "metadata": {},
   "outputs": [],
   "source": [
    "flipped_x = np.flip(sobel_x)\n",
    "flipped_y = np.flip(sobel_y)"
   ]
  },
  {
   "cell_type": "code",
   "execution_count": 114,
   "metadata": {},
   "outputs": [],
   "source": [
    "convolved_img=[]\n",
    "for i in range(1,padded.shape[0]-1):\n",
    "    for j in range(1,padded.shape[1]-1):\n",
    "        temp_array = padded[i-1:i+2,j-1:j+2]\n",
    "        convolved_img.append(sum((temp_array*flipped_x).flatten()))\n",
    "        \n",
    "        "
   ]
  },
  {
   "cell_type": "markdown",
   "metadata": {},
   "source": [
    "temp_array*flipped_x"
   ]
  },
  {
   "cell_type": "code",
   "execution_count": 118,
   "metadata": {},
   "outputs": [],
   "source": [
    "convolved_img = np.array(convolved_img).reshape(filter_img.shape)"
   ]
  },
  {
   "cell_type": "code",
   "execution_count": 145,
   "metadata": {},
   "outputs": [
    {
     "data": {
      "text/plain": [
       "True"
      ]
     },
     "execution_count": 145,
     "metadata": {},
     "output_type": "execute_result"
    }
   ],
   "source": []
  },
  {
   "cell_type": "code",
   "execution_count": 111,
   "metadata": {},
   "outputs": [
    {
     "data": {
      "text/plain": [
       "array([[-1,  0,  1],\n",
       "       [-2,  0,  2],\n",
       "       [-1,  0,  1]])"
      ]
     },
     "execution_count": 111,
     "metadata": {},
     "output_type": "execute_result"
    }
   ],
   "source": [
    "flipped_x"
   ]
  },
  {
   "cell_type": "code",
   "execution_count": 127,
   "metadata": {},
   "outputs": [
    {
     "data": {
      "text/plain": [
       "array([[-1, -2, -1],\n",
       "       [ 0,  0,  0],\n",
       "       [ 1,  2,  1]])"
      ]
     },
     "execution_count": 127,
     "metadata": {},
     "output_type": "execute_result"
    }
   ],
   "source": [
    "flipped_y"
   ]
  },
  {
   "cell_type": "code",
   "execution_count": 143,
   "metadata": {},
   "outputs": [],
   "source": [
    "val_min = edge_x_img.min()\n",
    "val_max = edge_x_img.max()\n",
    "x = 255 * ((edge_x_img-val_min)/(val_max-val_min)) "
   ]
  },
  {
   "cell_type": "code",
   "execution_count": 144,
   "metadata": {},
   "outputs": [
    {
     "data": {
      "text/plain": [
       "array([[223.8038633 , 185.91381872, 114.04903418, ..., 131.22585438,\n",
       "         65.04457652,  32.33283804],\n",
       "       [255.        , 151.56017831, 106.97622585, ..., 134.6359584 ,\n",
       "         97.88261516,   3.28380386],\n",
       "       [250.07429421, 115.05943536, 104.57652303, ..., 137.79346211,\n",
       "        131.60475483,  10.86181278],\n",
       "       ...,\n",
       "       [236.68647845, 127.31054978, 120.74294205, ..., 160.52748886,\n",
       "        143.98216939,   2.27340267],\n",
       "       [233.15007429, 147.3922734 , 118.97473997, ..., 148.78157504,\n",
       "        111.7756315 ,   4.4205052 ],\n",
       "       [205.3640416 , 172.02080238, 119.85884101, ..., 140.44576523,\n",
       "         77.29569094,  36.75334324]])"
      ]
     },
     "execution_count": 144,
     "metadata": {},
     "output_type": "execute_result"
    }
   ],
   "source": []
  },
  {
   "cell_type": "code",
   "execution_count": 151,
   "metadata": {},
   "outputs": [
    {
     "data": {
      "text/plain": [
       "array([[-2, -1,  0],\n",
       "       [-1,  0,  1],\n",
       "       [ 0,  1,  2]])"
      ]
     },
     "execution_count": 151,
     "metadata": {},
     "output_type": "execute_result"
    }
   ],
   "source": [
    "np.array([[-2,-1,0] , [-1 ,0  ,1] , [0  , 1 , 2]]).astype(int)"
   ]
  },
  {
   "cell_type": "code",
   "execution_count": 154,
   "metadata": {},
   "outputs": [
    {
     "ename": "NotImplementedError",
     "evalue": "",
     "output_type": "error",
     "traceback": [
      "\u001b[1;31m---------------------------------------------------------------------------\u001b[0m",
      "\u001b[1;31mNotImplementedError\u001b[0m                       Traceback (most recent call last)",
      "\u001b[1;32m<ipython-input-154-64e2c6450339>\u001b[0m in \u001b[0;36m<module>\u001b[1;34m\u001b[0m\n\u001b[1;32m----> 1\u001b[1;33m \u001b[0medge_diag\u001b[0m\u001b[1;33m(\u001b[0m\u001b[0mpadded\u001b[0m\u001b[1;33m)\u001b[0m\u001b[1;33m\u001b[0m\u001b[1;33m\u001b[0m\u001b[0m\n\u001b[0m",
      "\u001b[1;32m<ipython-input-149-3f7b01ad2a6d>\u001b[0m in \u001b[0;36medge_diag\u001b[1;34m(img)\u001b[0m\n\u001b[0;32m    119\u001b[0m \u001b[1;33m\u001b[0m\u001b[0m\n\u001b[0;32m    120\u001b[0m     \u001b[1;31m# TO DO: implement your solution here\u001b[0m\u001b[1;33m\u001b[0m\u001b[1;33m\u001b[0m\u001b[1;33m\u001b[0m\u001b[0m\n\u001b[1;32m--> 121\u001b[1;33m     \u001b[1;32mraise\u001b[0m \u001b[0mNotImplementedError\u001b[0m\u001b[1;33m\u001b[0m\u001b[1;33m\u001b[0m\u001b[0m\n\u001b[0m\u001b[0;32m    122\u001b[0m     \u001b[0mprint\u001b[0m\u001b[1;33m(\u001b[0m\u001b[1;33m)\u001b[0m \u001b[1;31m# print the two kernels you designed here\u001b[0m\u001b[1;33m\u001b[0m\u001b[1;33m\u001b[0m\u001b[0m\n\u001b[0;32m    123\u001b[0m     \u001b[1;32mreturn\u001b[0m \u001b[0medge_45\u001b[0m\u001b[1;33m,\u001b[0m \u001b[0medge_135\u001b[0m\u001b[1;33m\u001b[0m\u001b[1;33m\u001b[0m\u001b[0m\n",
      "\u001b[1;31mNotImplementedError\u001b[0m: "
     ]
    }
   ],
   "source": [
    "edge_diag(padded)"
   ]
  },
  {
   "cell_type": "code",
   "execution_count": 156,
   "metadata": {},
   "outputs": [
    {
     "data": {
      "text/plain": [
       "array([[  0,   0,   0, ...,   0,   0,   0],\n",
       "       [  0, 254, 255, ..., 252, 255,   0],\n",
       "       [  0, 255, 255, ..., 253, 254,   0],\n",
       "       ...,\n",
       "       [  0, 228, 204, ..., 246, 255,   0],\n",
       "       [  0, 234, 228, ..., 255, 254,   0],\n",
       "       [  0,   0,   0, ...,   0,   0,   0]])"
      ]
     },
     "execution_count": 156,
     "metadata": {},
     "output_type": "execute_result"
    }
   ],
   "source": [
    "img_pad"
   ]
  },
  {
   "cell_type": "code",
   "execution_count": null,
   "metadata": {},
   "outputs": [],
   "source": []
  }
 ],
 "metadata": {
  "kernelspec": {
   "display_name": "Python 3",
   "language": "python",
   "name": "python3"
  },
  "language_info": {
   "codemirror_mode": {
    "name": "ipython",
    "version": 3
   },
   "file_extension": ".py",
   "mimetype": "text/x-python",
   "name": "python",
   "nbconvert_exporter": "python",
   "pygments_lexer": "ipython3",
   "version": "3.7.3"
  }
 },
 "nbformat": 4,
 "nbformat_minor": 2
}
